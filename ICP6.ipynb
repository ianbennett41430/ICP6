{
  "nbformat": 4,
  "nbformat_minor": 0,
  "metadata": {
    "colab": {
      "provenance": [],
      "authorship_tag": "ABX9TyMI+vGfYLd1mNv1SNOe6wIi",
      "include_colab_link": true
    },
    "kernelspec": {
      "name": "python3",
      "display_name": "Python 3"
    },
    "language_info": {
      "name": "python"
    }
  },
  "cells": [
    {
      "cell_type": "markdown",
      "metadata": {
        "id": "view-in-github",
        "colab_type": "text"
      },
      "source": [
        "<a href=\"https://colab.research.google.com/github/ianbennett41430/ICP6/blob/main/ICP6.ipynb\" target=\"_parent\"><img src=\"https://colab.research.google.com/assets/colab-badge.svg\" alt=\"Open In Colab\"/></a>"
      ]
    },
    {
      "cell_type": "code",
      "execution_count": null,
      "metadata": {
        "id": "d74_5kfr4ebc"
      },
      "outputs": [],
      "source": [
        "#Question 1:\n",
        "from google.colab import drive\n",
        "drive.mount('/content/gdrive')\n",
        "path_to_csv = '/content/gdrive/My Drive/diabetes(1).csv'\n",
        "# New Section\n",
        "import keras\n",
        "import pandas\n",
        "from keras.models import Sequential\n",
        "from keras.layers import Dense, Activation\n",
        "\n",
        "# load dataset\n",
        "from sklearn.model_selection import train_test_split\n",
        "import pandas as pd\n",
        "import numpy as np\n",
        "\n",
        "dataset = pd.read_csv(path_to_csv, header=None).values\n",
        "\n",
        "X_train, X_test, Y_train, Y_test = train_test_split(dataset[:,0:8], dataset[:,8],\n",
        "                                                    test_size=0.25, random_state=87)\n",
        "np.random.seed(155)\n",
        "my_first_nn = Sequential() # create model\n",
        "my_first_nn.add(Dense(20, input_dim=8, activation='relu')) # hidden layer\n",
        "my_first_nn.add(Dense(50,activation='relu')) # dense layer\n",
        "my_first_nn.add(Dense(50, activation='relu')) # dense layer\n",
        "my_first_nn.add(Dense(5, activation='relu')) # dense layer\n",
        "my_first_nn.add(Dense(1, activation='sigmoid')) # output layer\n",
        "my_first_nn.compile(loss='binary_crossentropy', optimizer='adam', metrics=['acc'])\n",
        "my_first_nn.fit(X_train, Y_train, epochs=100,\n",
        "                                     initial_epoch=0)\n",
        "print(my_first_nn.summary())\n",
        "print(my_first_nn.evaluate(X_test, Y_test))"
      ]
    },
    {
      "cell_type": "code",
      "source": [
        "#Question 2:\n",
        "from keras import Sequential\n",
        "from keras.datasets import mnist\n",
        "import numpy as np\n",
        "from keras.layers import Dense\n",
        "from keras.utils import to_categorical\n",
        "\n",
        "(train_images,train_labels),(test_images, test_labels) = mnist.load_data()\n",
        "\n",
        "print(train_images.shape[1:])\n",
        "#process the data\n",
        "#1. convert each image of shape 28*28 to 784 dimensional which will be fed to the network as a single feature\n",
        "dimData = np.prod(train_images.shape[1:])\n",
        "print(dimData)\n",
        "train_data = train_images.reshape(train_images.shape[0],dimData)\n",
        "test_data = test_images.reshape(test_images.shape[0],dimData)\n",
        "\n",
        "#convert data to float and scale values between 0 and 1\n",
        "train_data = train_data.astype('float')\n",
        "test_data = test_data.astype('float')\n",
        "\n",
        "#change the labels frominteger to one-hot encoding. to_categorical is doing the same thing as LabelEncoder()\n",
        "train_labels_one_hot = to_categorical(train_labels)\n",
        "test_labels_one_hot = to_categorical(test_labels)\n",
        "\n",
        "#creating network\n",
        "model = Sequential()\n",
        "model.add(Dense(512, activation='sigmoid', input_shape=(dimData,)))\n",
        "model.add(Dense(512, activation='sigmoid'))\n",
        "model.add(Dense(10, activation='softmax'))\n",
        "\n",
        "model.compile(optimizer='rmsprop', loss='categorical_crossentropy', metrics=['accuracy'])\n",
        "history = model.fit(train_data, train_labels_one_hot, batch_size=256, epochs=10, verbose=1,\n",
        "                   validation_data=(test_data, test_labels_one_hot))"
      ],
      "metadata": {
        "colab": {
          "base_uri": "https://localhost:8080/"
        },
        "id": "Ms704Oo1bih2",
        "outputId": "c63672a6-c1d7-41d6-e957-c505cb40ca4d"
      },
      "execution_count": 13,
      "outputs": [
        {
          "output_type": "stream",
          "name": "stdout",
          "text": [
            "(28, 28)\n",
            "784\n",
            "Epoch 1/10\n",
            "235/235 [==============================] - 8s 30ms/step - loss: 0.4426 - accuracy: 0.8740 - val_loss: 0.2740 - val_accuracy: 0.9197\n",
            "Epoch 2/10\n",
            "235/235 [==============================] - 7s 32ms/step - loss: 0.2182 - accuracy: 0.9345 - val_loss: 0.1999 - val_accuracy: 0.9397\n",
            "Epoch 3/10\n",
            "235/235 [==============================] - 6s 24ms/step - loss: 0.1726 - accuracy: 0.9477 - val_loss: 0.1710 - val_accuracy: 0.9473\n",
            "Epoch 4/10\n",
            "235/235 [==============================] - 7s 32ms/step - loss: 0.1488 - accuracy: 0.9541 - val_loss: 0.1641 - val_accuracy: 0.9502\n",
            "Epoch 5/10\n",
            "235/235 [==============================] - 6s 25ms/step - loss: 0.1342 - accuracy: 0.9587 - val_loss: 0.1468 - val_accuracy: 0.9551\n",
            "Epoch 6/10\n",
            "235/235 [==============================] - 7s 32ms/step - loss: 0.1226 - accuracy: 0.9619 - val_loss: 0.1583 - val_accuracy: 0.9508\n",
            "Epoch 7/10\n",
            "235/235 [==============================] - 5s 23ms/step - loss: 0.1100 - accuracy: 0.9661 - val_loss: 0.1234 - val_accuracy: 0.9619\n",
            "Epoch 8/10\n",
            "235/235 [==============================] - 6s 26ms/step - loss: 0.1032 - accuracy: 0.9677 - val_loss: 0.1588 - val_accuracy: 0.9487\n",
            "Epoch 9/10\n",
            "235/235 [==============================] - 8s 34ms/step - loss: 0.0999 - accuracy: 0.9691 - val_loss: 0.1119 - val_accuracy: 0.9663\n",
            "Epoch 10/10\n",
            "235/235 [==============================] - 9s 36ms/step - loss: 0.0955 - accuracy: 0.9699 - val_loss: 0.1110 - val_accuracy: 0.9662\n"
          ]
        }
      ]
    },
    {
      "cell_type": "code",
      "source": [],
      "metadata": {
        "id": "g-2cOQjIA-YZ"
      },
      "execution_count": null,
      "outputs": []
    }
  ]
}